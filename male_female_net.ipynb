{
 "cells": [
  {
   "cell_type": "code",
   "execution_count": null,
   "metadata": {},
   "outputs": [],
   "source": [
    "import keras"
   ]
  },
  {
   "cell_type": "code",
   "execution_count": 2,
   "metadata": {},
   "outputs": [],
   "source": [
    "import numpy as np\n",
    "import matplotlib.pyplot as plt\n",
    "import tensorflow as tf\n",
    "from keras.layers import Activation, Dense, MaxPooling2D, Conv2D, ZeroPadding2D, Dropout\n",
    "from keras.layers import Flatten, Input\n",
    "from keras.models import Model, Sequential, load_model\n",
    "from keras import utils\n",
    "from keras.callbacks import TensorBoard, History\n",
    "from keras.datasets import fashion_mnist\n",
    "from keras.preprocessing.image import ImageDataGenerator\n"
   ]
  },
  {
   "cell_type": "code",
   "execution_count": 4,
   "metadata": {},
   "outputs": [],
   "source": [
    "# image dimension\n",
    "img_width, img_height = 128, 128\n",
    "train_data_dir = 'train'\n",
    "validation_data_dir = 'validation'\n",
    "nb_train_sample = 200\n",
    "nb_validation_sample= 240\n",
    "epochs = 10\n",
    "batch_size = 8"
   ]
  },
  {
   "cell_type": "code",
   "execution_count": 5,
   "metadata": {},
   "outputs": [],
   "source": [
    "tensorboardku = TensorBoard(log_dir='graphku')"
   ]
  },
  {
   "cell_type": "code",
   "execution_count": 6,
   "metadata": {},
   "outputs": [
    {
     "name": "stdout",
     "output_type": "stream",
     "text": [
      "Found 800 images belonging to 2 classes.\n",
      "Found 240 images belonging to 2 classes.\n"
     ]
    }
   ],
   "source": [
    "# agmentasi gambar\n",
    "train_datagen = ImageDataGenerator(rescale=1./255, \n",
    "                                   shear_range=0.2, \n",
    "                                   zoom_range=0.2, \n",
    "                                   horizontal_flip=True)\n",
    "\n",
    "test_datagen = ImageDataGenerator(rescale=1. / 255)\n",
    "\n",
    "# train data generator \n",
    "train_generator = train_datagen.flow_from_directory(train_data_dir,\n",
    "                                                   target_size=(img_width, img_height), \n",
    "                                                   batch_size=batch_size,\n",
    "                                                   class_mode='binary')\n",
    "\n",
    "# testing data generator\n",
    "validation_generator = test_datagen.flow_from_directory(validation_data_dir,\n",
    "                                                       target_size=(img_width, img_height),\n",
    "                                                       batch_size=batch_size,\n",
    "                                                       class_mode='binary')\n"
   ]
  },
  {
   "cell_type": "code",
   "execution_count": 7,
   "metadata": {},
   "outputs": [
    {
     "name": "stdout",
     "output_type": "stream",
     "text": [
      "_________________________________________________________________\n",
      "Layer (type)                 Output Shape              Param #   \n",
      "=================================================================\n",
      "input_1 (InputLayer)         (None, 128, 128, 3)       0         \n",
      "_________________________________________________________________\n",
      "conv2d_1 (Conv2D)            (None, 42, 42, 16)        1216      \n",
      "_________________________________________________________________\n",
      "zero_padding2d_1 (ZeroPaddin (None, 44, 44, 16)        0         \n",
      "_________________________________________________________________\n",
      "conv2d_2 (Conv2D)            (None, 14, 14, 32)        12832     \n",
      "_________________________________________________________________\n",
      "max_pooling2d_1 (MaxPooling2 (None, 7, 7, 32)          0         \n",
      "_________________________________________________________________\n",
      "conv2d_3 (Conv2D)            (None, 5, 5, 64)          18496     \n",
      "_________________________________________________________________\n",
      "conv2d_4 (Conv2D)            (None, 3, 3, 64)          36928     \n",
      "_________________________________________________________________\n",
      "flatten_1 (Flatten)          (None, 576)               0         \n",
      "_________________________________________________________________\n",
      "dense_1 (Dense)              (None, 32)                18464     \n",
      "_________________________________________________________________\n",
      "dense_2 (Dense)              (None, 1)                 33        \n",
      "=================================================================\n",
      "Total params: 87,969\n",
      "Trainable params: 87,969\n",
      "Non-trainable params: 0\n",
      "_________________________________________________________________\n"
     ]
    }
   ],
   "source": [
    "inputs = Input(shape=(img_width, img_height, 3))\n",
    "conv_layer = Conv2D(16, (5, 5), strides=(3,3), activation='relu')(inputs) \n",
    "conv_layer = ZeroPadding2D(padding=(1,1))(conv_layer) \n",
    "conv_layer = Conv2D(32, (5, 5), strides=(3,3), activation='relu')(conv_layer) \n",
    "conv_layer = MaxPooling2D((2, 2))(conv_layer) \n",
    "conv_layer = Conv2D(64, (3, 3), strides=(1,1), activation='relu')(conv_layer) \n",
    "conv_layer = Conv2D(64, (3, 3), strides=(1,1), activation='relu')(conv_layer)\n",
    "\n",
    "# Flatten Layer\n",
    "flatten = Flatten()(conv_layer) \n",
    "\n",
    "# Fully Connected Layer\n",
    "fc_layer = Dense(32, activation='relu')(flatten)\n",
    "outputs = Dense(1, activation='sigmoid')(fc_layer)\n",
    "\n",
    "male_female_net = Model(inputs=inputs, outputs=outputs)\n",
    "male_female_net.summary()"
   ]
  },
  {
   "cell_type": "code",
   "execution_count": 8,
   "metadata": {},
   "outputs": [
    {
     "data": {
      "image/svg+xml": [
       "<svg height=\"702pt\" viewBox=\"0.00 0.00 225.00 702.00\" width=\"225pt\" xmlns=\"http://www.w3.org/2000/svg\" xmlns:xlink=\"http://www.w3.org/1999/xlink\">\n",
       "<g class=\"graph\" id=\"graph0\" transform=\"scale(1 1) rotate(0) translate(4 698)\">\n",
       "<title>G</title>\n",
       "<polygon fill=\"white\" points=\"-4,4 -4,-698 221,-698 221,4 -4,4\" stroke=\"none\"/>\n",
       "<!-- 1749510897736 -->\n",
       "<g class=\"node\" id=\"node1\"><title>1749510897736</title>\n",
       "<polygon fill=\"none\" points=\"45.5,-657.5 45.5,-693.5 171.5,-693.5 171.5,-657.5 45.5,-657.5\" stroke=\"black\"/>\n",
       "<text font-family=\"Times New Roman,serif\" font-size=\"14.00\" text-anchor=\"middle\" x=\"108.5\" y=\"-671.8\">input_1: InputLayer</text>\n",
       "</g>\n",
       "<!-- 1749510831072 -->\n",
       "<g class=\"node\" id=\"node2\"><title>1749510831072</title>\n",
       "<polygon fill=\"none\" points=\"45,-584.5 45,-620.5 172,-620.5 172,-584.5 45,-584.5\" stroke=\"black\"/>\n",
       "<text font-family=\"Times New Roman,serif\" font-size=\"14.00\" text-anchor=\"middle\" x=\"108.5\" y=\"-598.8\">conv2d_1: Conv2D</text>\n",
       "</g>\n",
       "<!-- 1749510897736&#45;&gt;1749510831072 -->\n",
       "<g class=\"edge\" id=\"edge1\"><title>1749510897736-&gt;1749510831072</title>\n",
       "<path d=\"M108.5,-657.313C108.5,-649.289 108.5,-639.547 108.5,-630.569\" fill=\"none\" stroke=\"black\"/>\n",
       "<polygon fill=\"black\" points=\"112,-630.529 108.5,-620.529 105,-630.529 112,-630.529\" stroke=\"black\"/>\n",
       "</g>\n",
       "<!-- 1749511102136 -->\n",
       "<g class=\"node\" id=\"node3\"><title>1749511102136</title>\n",
       "<polygon fill=\"none\" points=\"0,-511.5 0,-547.5 217,-547.5 217,-511.5 0,-511.5\" stroke=\"black\"/>\n",
       "<text font-family=\"Times New Roman,serif\" font-size=\"14.00\" text-anchor=\"middle\" x=\"108.5\" y=\"-525.8\">zero_padding2d_1: ZeroPadding2D</text>\n",
       "</g>\n",
       "<!-- 1749510831072&#45;&gt;1749511102136 -->\n",
       "<g class=\"edge\" id=\"edge2\"><title>1749510831072-&gt;1749511102136</title>\n",
       "<path d=\"M108.5,-584.313C108.5,-576.289 108.5,-566.547 108.5,-557.569\" fill=\"none\" stroke=\"black\"/>\n",
       "<polygon fill=\"black\" points=\"112,-557.529 108.5,-547.529 105,-557.529 112,-557.529\" stroke=\"black\"/>\n",
       "</g>\n",
       "<!-- 1749511102416 -->\n",
       "<g class=\"node\" id=\"node4\"><title>1749511102416</title>\n",
       "<polygon fill=\"none\" points=\"45,-438.5 45,-474.5 172,-474.5 172,-438.5 45,-438.5\" stroke=\"black\"/>\n",
       "<text font-family=\"Times New Roman,serif\" font-size=\"14.00\" text-anchor=\"middle\" x=\"108.5\" y=\"-452.8\">conv2d_2: Conv2D</text>\n",
       "</g>\n",
       "<!-- 1749511102136&#45;&gt;1749511102416 -->\n",
       "<g class=\"edge\" id=\"edge3\"><title>1749511102136-&gt;1749511102416</title>\n",
       "<path d=\"M108.5,-511.313C108.5,-503.289 108.5,-493.547 108.5,-484.569\" fill=\"none\" stroke=\"black\"/>\n",
       "<polygon fill=\"black\" points=\"112,-484.529 108.5,-474.529 105,-484.529 112,-484.529\" stroke=\"black\"/>\n",
       "</g>\n",
       "<!-- 1749511101968 -->\n",
       "<g class=\"node\" id=\"node5\"><title>1749511101968</title>\n",
       "<polygon fill=\"none\" points=\"4,-365.5 4,-401.5 213,-401.5 213,-365.5 4,-365.5\" stroke=\"black\"/>\n",
       "<text font-family=\"Times New Roman,serif\" font-size=\"14.00\" text-anchor=\"middle\" x=\"108.5\" y=\"-379.8\">max_pooling2d_1: MaxPooling2D</text>\n",
       "</g>\n",
       "<!-- 1749511102416&#45;&gt;1749511101968 -->\n",
       "<g class=\"edge\" id=\"edge4\"><title>1749511102416-&gt;1749511101968</title>\n",
       "<path d=\"M108.5,-438.313C108.5,-430.289 108.5,-420.547 108.5,-411.569\" fill=\"none\" stroke=\"black\"/>\n",
       "<polygon fill=\"black\" points=\"112,-411.529 108.5,-401.529 105,-411.529 112,-411.529\" stroke=\"black\"/>\n",
       "</g>\n",
       "<!-- 1749510898352 -->\n",
       "<g class=\"node\" id=\"node6\"><title>1749510898352</title>\n",
       "<polygon fill=\"none\" points=\"45,-292.5 45,-328.5 172,-328.5 172,-292.5 45,-292.5\" stroke=\"black\"/>\n",
       "<text font-family=\"Times New Roman,serif\" font-size=\"14.00\" text-anchor=\"middle\" x=\"108.5\" y=\"-306.8\">conv2d_3: Conv2D</text>\n",
       "</g>\n",
       "<!-- 1749511101968&#45;&gt;1749510898352 -->\n",
       "<g class=\"edge\" id=\"edge5\"><title>1749511101968-&gt;1749510898352</title>\n",
       "<path d=\"M108.5,-365.313C108.5,-357.289 108.5,-347.547 108.5,-338.569\" fill=\"none\" stroke=\"black\"/>\n",
       "<polygon fill=\"black\" points=\"112,-338.529 108.5,-328.529 105,-338.529 112,-338.529\" stroke=\"black\"/>\n",
       "</g>\n",
       "<!-- 1749511300656 -->\n",
       "<g class=\"node\" id=\"node7\"><title>1749511300656</title>\n",
       "<polygon fill=\"none\" points=\"45,-219.5 45,-255.5 172,-255.5 172,-219.5 45,-219.5\" stroke=\"black\"/>\n",
       "<text font-family=\"Times New Roman,serif\" font-size=\"14.00\" text-anchor=\"middle\" x=\"108.5\" y=\"-233.8\">conv2d_4: Conv2D</text>\n",
       "</g>\n",
       "<!-- 1749510898352&#45;&gt;1749511300656 -->\n",
       "<g class=\"edge\" id=\"edge6\"><title>1749510898352-&gt;1749511300656</title>\n",
       "<path d=\"M108.5,-292.313C108.5,-284.289 108.5,-274.547 108.5,-265.569\" fill=\"none\" stroke=\"black\"/>\n",
       "<polygon fill=\"black\" points=\"112,-265.529 108.5,-255.529 105,-265.529 112,-265.529\" stroke=\"black\"/>\n",
       "</g>\n",
       "<!-- 1749511300376 -->\n",
       "<g class=\"node\" id=\"node8\"><title>1749511300376</title>\n",
       "<polygon fill=\"none\" points=\"54,-146.5 54,-182.5 163,-182.5 163,-146.5 54,-146.5\" stroke=\"black\"/>\n",
       "<text font-family=\"Times New Roman,serif\" font-size=\"14.00\" text-anchor=\"middle\" x=\"108.5\" y=\"-160.8\">flatten_1: Flatten</text>\n",
       "</g>\n",
       "<!-- 1749511300656&#45;&gt;1749511300376 -->\n",
       "<g class=\"edge\" id=\"edge7\"><title>1749511300656-&gt;1749511300376</title>\n",
       "<path d=\"M108.5,-219.313C108.5,-211.289 108.5,-201.547 108.5,-192.569\" fill=\"none\" stroke=\"black\"/>\n",
       "<polygon fill=\"black\" points=\"112,-192.529 108.5,-182.529 105,-192.529 112,-192.529\" stroke=\"black\"/>\n",
       "</g>\n",
       "<!-- 1749511222496 -->\n",
       "<g class=\"node\" id=\"node9\"><title>1749511222496</title>\n",
       "<polygon fill=\"none\" points=\"56.5,-73.5 56.5,-109.5 160.5,-109.5 160.5,-73.5 56.5,-73.5\" stroke=\"black\"/>\n",
       "<text font-family=\"Times New Roman,serif\" font-size=\"14.00\" text-anchor=\"middle\" x=\"108.5\" y=\"-87.8\">dense_1: Dense</text>\n",
       "</g>\n",
       "<!-- 1749511300376&#45;&gt;1749511222496 -->\n",
       "<g class=\"edge\" id=\"edge8\"><title>1749511300376-&gt;1749511222496</title>\n",
       "<path d=\"M108.5,-146.313C108.5,-138.289 108.5,-128.547 108.5,-119.569\" fill=\"none\" stroke=\"black\"/>\n",
       "<polygon fill=\"black\" points=\"112,-119.529 108.5,-109.529 105,-119.529 112,-119.529\" stroke=\"black\"/>\n",
       "</g>\n",
       "<!-- 1749511564536 -->\n",
       "<g class=\"node\" id=\"node10\"><title>1749511564536</title>\n",
       "<polygon fill=\"none\" points=\"56.5,-0.5 56.5,-36.5 160.5,-36.5 160.5,-0.5 56.5,-0.5\" stroke=\"black\"/>\n",
       "<text font-family=\"Times New Roman,serif\" font-size=\"14.00\" text-anchor=\"middle\" x=\"108.5\" y=\"-14.8\">dense_2: Dense</text>\n",
       "</g>\n",
       "<!-- 1749511222496&#45;&gt;1749511564536 -->\n",
       "<g class=\"edge\" id=\"edge9\"><title>1749511222496-&gt;1749511564536</title>\n",
       "<path d=\"M108.5,-73.3129C108.5,-65.2895 108.5,-55.5475 108.5,-46.5691\" fill=\"none\" stroke=\"black\"/>\n",
       "<polygon fill=\"black\" points=\"112,-46.5288 108.5,-36.5288 105,-46.5289 112,-46.5288\" stroke=\"black\"/>\n",
       "</g>\n",
       "</g>\n",
       "</svg>"
      ],
      "text/plain": [
       "<IPython.core.display.SVG object>"
      ]
     },
     "execution_count": 8,
     "metadata": {},
     "output_type": "execute_result"
    }
   ],
   "source": [
    "# visualisasi model\n",
    "from IPython.display import SVG\n",
    "from keras.utils.vis_utils import model_to_dot\n",
    "SVG(model_to_dot(male_female_net).create(prog='dot', format='svg'))"
   ]
  },
  {
   "cell_type": "code",
   "execution_count": 9,
   "metadata": {},
   "outputs": [],
   "source": [
    "from keras.optimizers import Adam\n",
    "adam = Adam(lr=0.001)\n",
    "male_female_net.compile(loss='binary_crossentropy', optimizer=adam, metrics=['accuracy'])"
   ]
  },
  {
   "cell_type": "code",
   "execution_count": 10,
   "metadata": {
    "scrolled": true
   },
   "outputs": [
    {
     "name": "stdout",
     "output_type": "stream",
     "text": [
      "Epoch 1/10\n",
      "200/200 [==============================] - 77s 387ms/step - loss: 0.6632 - acc: 0.5962 - val_loss: 0.6433 - val_acc: 0.6208\n",
      "Epoch 2/10\n",
      "200/200 [==============================] - 23s 117ms/step - loss: 0.6045 - acc: 0.6869 - val_loss: 0.5832 - val_acc: 0.6958\n",
      "Epoch 3/10\n",
      "200/200 [==============================] - 23s 113ms/step - loss: 0.5356 - acc: 0.7344 - val_loss: 0.6171 - val_acc: 0.7083\n",
      "Epoch 4/10\n",
      "200/200 [==============================] - 23s 114ms/step - loss: 0.4980 - acc: 0.7538 - val_loss: 0.5089 - val_acc: 0.7417\n",
      "Epoch 5/10\n",
      "200/200 [==============================] - 23s 113ms/step - loss: 0.4575 - acc: 0.7812 - val_loss: 0.5088 - val_acc: 0.7292\n",
      "Epoch 6/10\n",
      "200/200 [==============================] - 23s 115ms/step - loss: 0.4120 - acc: 0.8069 - val_loss: 0.6036 - val_acc: 0.7167\n",
      "Epoch 7/10\n",
      "200/200 [==============================] - 22s 110ms/step - loss: 0.3843 - acc: 0.8269 - val_loss: 0.6048 - val_acc: 0.7250\n",
      "Epoch 8/10\n",
      "200/200 [==============================] - 22s 111ms/step - loss: 0.3649 - acc: 0.8275 - val_loss: 0.6043 - val_acc: 0.7417\n",
      "Epoch 9/10\n",
      "200/200 [==============================] - 22s 112ms/step - loss: 0.3333 - acc: 0.8556 - val_loss: 0.5125 - val_acc: 0.7708\n",
      "Epoch 10/10\n",
      "200/200 [==============================] - 22s 109ms/step - loss: 0.2833 - acc: 0.8794 - val_loss: 0.5817 - val_acc: 0.7458\n"
     ]
    }
   ],
   "source": [
    "rekaman = male_female_net.fit_generator(train_generator,\n",
    "                             steps_per_epoch=nb_train_sample,\n",
    "                             epochs=epochs,\n",
    "                             validation_data=validation_generator,\n",
    "                             validation_steps=nb_validation_sample,\n",
    "                             callbacks=[tensorboardku])\n",
    "\n",
    "male_female_net.save('male_female_net_2.h5')"
   ]
  },
  {
   "cell_type": "code",
   "execution_count": null,
   "metadata": {},
   "outputs": [],
   "source": [
    "rekaman.history"
   ]
  },
  {
   "cell_type": "code",
   "execution_count": 14,
   "metadata": {},
   "outputs": [],
   "source": [
    "score = male_female_net.evaluate_generator(generator=validation_generator)"
   ]
  },
  {
   "cell_type": "code",
   "execution_count": 38,
   "metadata": {},
   "outputs": [
    {
     "data": {
      "text/plain": [
       "[0.5817446271578471, 0.7458333333333333]"
      ]
     },
     "execution_count": 38,
     "metadata": {},
     "output_type": "execute_result"
    }
   ],
   "source": [
    "score"
   ]
  },
  {
   "cell_type": "code",
   "execution_count": 15,
   "metadata": {},
   "outputs": [],
   "source": [
    "validation_generator.reset()"
   ]
  },
  {
   "cell_type": "code",
   "execution_count": 31,
   "metadata": {},
   "outputs": [],
   "source": [
    "prediksi = male_female_net.predict_generator(generator=validation_generator)"
   ]
  },
  {
   "cell_type": "code",
   "execution_count": 59,
   "metadata": {},
   "outputs": [
    {
     "data": {
      "text/plain": [
       "(128, 128, 3)"
      ]
     },
     "execution_count": 59,
     "metadata": {},
     "output_type": "execute_result"
    }
   ],
   "source": [
    "validation_generator.image_shape"
   ]
  },
  {
   "cell_type": "code",
   "execution_count": 62,
   "metadata": {},
   "outputs": [
    {
     "data": {
      "text/plain": [
       "array([0, 0, 0, 0, 0, 0, 0, 0, 0, 0], dtype=int64)"
      ]
     },
     "execution_count": 62,
     "metadata": {},
     "output_type": "execute_result"
    }
   ],
   "source": [
    "predicted_class_indices=np.argmax(prediksi,axis=1)\n",
    "predicted_class_indices[:10]"
   ]
  },
  {
   "cell_type": "code",
   "execution_count": 64,
   "metadata": {},
   "outputs": [
    {
     "name": "stdout",
     "output_type": "stream",
     "text": [
      "['1female', '1female', '1female', '1female', '1female', '1female', '1female', '1female', '1female', '1female', '1female', '1female', '1female', '1female', '1female', '1female', '1female', '1female', '1female', '1female', '1female', '1female', '1female', '1female', '1female', '1female', '1female', '1female', '1female', '1female', '1female', '1female', '1female', '1female', '1female', '1female', '1female', '1female', '1female', '1female', '1female', '1female', '1female', '1female', '1female', '1female', '1female', '1female', '1female', '1female', '1female', '1female', '1female', '1female', '1female', '1female', '1female', '1female', '1female', '1female', '1female', '1female', '1female', '1female', '1female', '1female', '1female', '1female', '1female', '1female', '1female', '1female', '1female', '1female', '1female', '1female', '1female', '1female', '1female', '1female', '1female', '1female', '1female', '1female', '1female', '1female', '1female', '1female', '1female', '1female', '1female', '1female', '1female', '1female', '1female', '1female', '1female', '1female', '1female', '1female', '1female', '1female', '1female', '1female', '1female', '1female', '1female', '1female', '1female', '1female', '1female', '1female', '1female', '1female', '1female', '1female', '1female', '1female', '1female', '1female', '1female', '1female', '1female', '1female', '1female', '1female', '1female', '1female', '1female', '1female', '1female', '1female', '1female', '1female', '1female', '1female', '1female', '1female', '1female', '1female', '1female', '1female', '1female', '1female', '1female', '1female', '1female', '1female', '1female', '1female', '1female', '1female', '1female', '1female', '1female', '1female', '1female', '1female', '1female', '1female', '1female', '1female', '1female', '1female', '1female', '1female', '1female', '1female', '1female', '1female', '1female', '1female', '1female', '1female', '1female', '1female', '1female', '1female', '1female', '1female', '1female', '1female', '1female', '1female', '1female', '1female', '1female', '1female', '1female', '1female', '1female', '1female', '1female', '1female', '1female', '1female', '1female', '1female', '1female', '1female', '1female', '1female', '1female', '1female', '1female', '1female', '1female', '1female', '1female', '1female', '1female', '1female', '1female', '1female', '1female', '1female', '1female', '1female', '1female', '1female', '1female', '1female', '1female', '1female', '1female', '1female', '1female', '1female', '1female', '1female', '1female', '1female', '1female', '1female', '1female', '1female', '1female', '1female', '1female', '1female']\n"
     ]
    }
   ],
   "source": [
    "labels = (train_generator.class_indices)\n",
    "labels = dict((v,k) for k,v in labels.items())\n",
    "predictions = [labels[k] for k in predicted_class_indices]\n",
    "print(predictions)"
   ]
  },
  {
   "cell_type": "code",
   "execution_count": null,
   "metadata": {},
   "outputs": [],
   "source": [
    "print(predictions)"
   ]
  },
  {
   "cell_type": "code",
   "execution_count": null,
   "metadata": {
    "collapsed": true
   },
   "outputs": [],
   "source": [
    "# build VGG16 Net\n",
    "keras.applications.VGG16(include_top='false', weights='imagenet')\n",
    "\n",
    "male_female_net_vgg = male_female_net"
   ]
  },
  {
   "cell_type": "markdown",
   "metadata": {},
   "source": [
    "## menggunakan arsitektu VGG16 pretrained model"
   ]
  },
  {
   "cell_type": "code",
   "execution_count": null,
   "metadata": {},
   "outputs": [],
   "source": [
    "# Training data augmentation\n",
    "train_datagen_vgg = ImageDataGenerator(rescale=1./255,\n",
    "                                       shear_range=0.2,\n",
    "                                       zoom_range=0.2,\n",
    "                                       horizontal_flip=True)\n",
    "\n",
    "test_datagen_vgg = ImageDataGenerator(rescale=1./255)\n",
    "\n",
    "train_generator_vgg = train_datagen_vgg.flow_from_directory(train_data_dir,\n",
    "                                                           terget_size=(img_width, img_height),\n",
    "                                                           batch_size=batch_size,\n",
    "                                                           class_mode='binary')\n",
    "\n",
    "train_feature = male_female_net.predict_generator(train_generator_vgg, \n",
    "                                                  nb_train_sample,\n",
    "                                                  verbose=1)\n",
    "\n",
    "validation_datagen_gen = ImageDataGenerator(rescale=1./255)\n",
    "\n",
    "validation_generator_vgg = validation_datagen_gen.flow_from_directory(validation_data_dir, \n",
    "                                                                      nb_validation_sample,\n",
    "                                                                      batch_size=batch_size,\n",
    "                                                                      class_mode='binary')\n",
    "validation_feature = male_female_net.predict(validatin_generator_vgg,\n",
    "                                            nb_validation_sample,\n",
    "                                            verbose=1)\n",
    "\n",
    "# simpan train dan validation feature\n",
    "np.save('train_feature.npy', train_feature)\n",
    "np.save('validation_feature.npy', validation_feature)"
   ]
  }
 ],
 "metadata": {
  "kernelspec": {
   "display_name": "Python 3",
   "language": "python",
   "name": "python3"
  },
  "language_info": {
   "codemirror_mode": {
    "name": "ipython",
    "version": 3
   },
   "file_extension": ".py",
   "mimetype": "text/x-python",
   "name": "python",
   "nbconvert_exporter": "python",
   "pygments_lexer": "ipython3",
   "version": "3.6.5"
  }
 },
 "nbformat": 4,
 "nbformat_minor": 2
}
